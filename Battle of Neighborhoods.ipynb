{
 "cells": [
  {
   "cell_type": "markdown",
   "metadata": {},
   "source": [
    "# 1st Import and Get the data"
   ]
  },
  {
   "cell_type": "markdown",
   "metadata": {},
   "source": [
    "### Import the Packages"
   ]
  },
  {
   "cell_type": "code",
   "execution_count": 41,
   "metadata": {},
   "outputs": [],
   "source": [
    "import numpy as np\n",
    "import pandas as pd \n",
    "pd.set_option('display.max_columns', None)\n",
    "pd.set_option('display.max_rows', None)\n",
    "import requests \n",
    "from geopy.geocoders import Nominatim\n",
    "from sklearn.cluster import KMeans\n",
    "import folium\n",
    "from scipy.cluster.hierarchy import linkage,fcluster,dendrogram\n",
    "import matplotlib.pyplot as plt\n",
    "import matplotlib.cm as cm\n",
    "import matplotlib.colors as colors"
   ]
  },
  {
   "cell_type": "markdown",
   "metadata": {},
   "source": [
    "### Get the data"
   ]
  },
  {
   "cell_type": "code",
   "execution_count": 2,
   "metadata": {},
   "outputs": [],
   "source": [
    "url='https://en.wikipedia.org/wiki/List_of_postal_codes_of_Canada:_M'\n",
    "df=pd.read_html(url)[0]\n",
    "df=df.loc[df['Borough'] != 'Not assigned',:]\n",
    "url2='http://cocl.us/Geospatial_data'\n",
    "geo_info=pd.read_csv(url2)\n",
    "df_withgeo=pd.merge(df,geo_info,left_on='Postal Code',right_on='Postal Code',how='outer')"
   ]
  },
  {
   "cell_type": "markdown",
   "metadata": {},
   "source": [
    "### Extract the data of Toronto"
   ]
  },
  {
   "cell_type": "code",
   "execution_count": 3,
   "metadata": {},
   "outputs": [],
   "source": [
    "df_Toronto=df_withgeo.loc[df_withgeo['Borough'].str.find('Toronto')>=0]"
   ]
  },
  {
   "cell_type": "markdown",
   "metadata": {},
   "source": [
    "### Define:\n",
    "* The Foursquare Credentials and Version\n",
    "* To get the top 100 venus with 500 meter of the neighborhood"
   ]
  },
  {
   "cell_type": "code",
   "execution_count": 7,
   "metadata": {},
   "outputs": [],
   "source": [
    "CLIENT_ID = '0QHM0LDENEU5RMPVXRQTCV4OABG0N5F3XBODATNQIN4SGAM2'\n",
    "CLIENT_SECRET = 'SAA3XJOEAGHN2J04ZRM5CZL1TAHDVZHG1PI0M2ELQCPX5E1W'\n",
    "VERSION = '20180605'\n",
    "radius = 500\n",
    "LIMIT = 100"
   ]
  },
  {
   "cell_type": "markdown",
   "metadata": {},
   "source": [
    "###  Get the venus around the neighborhood in Toronto"
   ]
  },
  {
   "cell_type": "code",
   "execution_count": 8,
   "metadata": {},
   "outputs": [],
   "source": [
    "def getNearbyVenues(names, latitudes, longitudes, radius=500):\n",
    "    \n",
    "    venues_list=[]\n",
    "    for name, lat, lng in zip(names, latitudes, longitudes):\n",
    "        print(name)\n",
    "        url = 'https://api.foursquare.com/v2/venues/explore?&client_id={}&client_secret={}&v={}&ll={},{}&radius={}&limit={}'.format(\n",
    "            CLIENT_ID, \n",
    "            CLIENT_SECRET, \n",
    "            VERSION, \n",
    "            lat, \n",
    "            lng, \n",
    "            radius, \n",
    "            LIMIT)\n",
    "        results = requests.get(url).json()[\"response\"]['groups'][0]['items']\n",
    "        venues_list.append([(\n",
    "            name, \n",
    "            lat, \n",
    "            lng, \n",
    "            v['venue']['name'], \n",
    "            v['venue']['location']['lat'], \n",
    "            v['venue']['location']['lng'],  \n",
    "            v['venue']['categories'][0]['name']) for v in results])\n",
    "    nearby_venues = pd.DataFrame([item for venue_list in venues_list for item in venue_list])\n",
    "    nearby_venues.columns = ['Neighborhood', \n",
    "                  'Neighborhood Latitude', \n",
    "                  'Neighborhood Longitude', \n",
    "                  'Venue', \n",
    "                  'Venue Latitude', \n",
    "                  'Venue Longitude', \n",
    "                  'Venue Category'] \n",
    "    return(nearby_venues)"
   ]
  },
  {
   "cell_type": "code",
   "execution_count": 10,
   "metadata": {
    "collapsed": true,
    "jupyter": {
     "outputs_hidden": true
    }
   },
   "outputs": [
    {
     "name": "stdout",
     "output_type": "stream",
     "text": [
      "Regent Park, Harbourfront\n",
      "Queen's Park, Ontario Provincial Government\n",
      "Garden District, Ryerson\n",
      "St. James Town\n",
      "The Beaches\n",
      "Berczy Park\n",
      "Central Bay Street\n",
      "Christie\n",
      "Richmond, Adelaide, King\n",
      "Dufferin, Dovercourt Village\n",
      "Harbourfront East, Union Station, Toronto Islands\n",
      "Little Portugal, Trinity\n",
      "The Danforth West, Riverdale\n",
      "Toronto Dominion Centre, Design Exchange\n",
      "Brockton, Parkdale Village, Exhibition Place\n",
      "India Bazaar, The Beaches West\n",
      "Commerce Court, Victoria Hotel\n",
      "Studio District\n",
      "Lawrence Park\n",
      "Roselawn\n",
      "Davisville North\n",
      "Forest Hill North & West, Forest Hill Road Park\n",
      "High Park, The Junction South\n",
      "North Toronto West, Lawrence Park\n",
      "The Annex, North Midtown, Yorkville\n",
      "Parkdale, Roncesvalles\n",
      "Davisville\n",
      "University of Toronto, Harbord\n",
      "Runnymede, Swansea\n",
      "Moore Park, Summerhill East\n",
      "Kensington Market, Chinatown, Grange Park\n",
      "Summerhill West, Rathnelly, South Hill, Forest Hill SE, Deer Park\n",
      "CN Tower, King and Spadina, Railway Lands, Harbourfront West, Bathurst Quay, South Niagara, Island airport\n",
      "Rosedale\n",
      "Stn A PO Boxes\n",
      "St. James Town, Cabbagetown\n",
      "First Canadian Place, Underground city\n",
      "Church and Wellesley\n",
      "Business reply mail Processing Centre, South Central Letter Processing Plant Toronto\n"
     ]
    }
   ],
   "source": [
    "Toronto_venues = getNearbyVenues(names=df_Toronto['Neighborhood'],\n",
    "                                   latitudes=df_Toronto['Latitude'],\n",
    "                                   longitudes=df_Toronto['Longitude']\n",
    "                                  )"
   ]
  },
  {
   "cell_type": "markdown",
   "metadata": {},
   "source": [
    "### Now we get the venues infotmation in the Toronto, let's analysis it"
   ]
  },
  {
   "cell_type": "code",
   "execution_count": 13,
   "metadata": {},
   "outputs": [],
   "source": [
    "Toronto_venues.to_csv('Toronto_venues.csv')"
   ]
  },
  {
   "cell_type": "code",
   "execution_count": 39,
   "metadata": {},
   "outputs": [
    {
     "name": "stdout",
     "output_type": "stream",
     "text": [
      "There are 39 neighborhoods.\n"
     ]
    }
   ],
   "source": [
    "print('There are {} neighborhoods.'.format(len(Toronto_venues['Neighborhood'].unique())))"
   ]
  },
  {
   "cell_type": "code",
   "execution_count": 19,
   "metadata": {},
   "outputs": [],
   "source": [
    "mean_venus=Toronto_venues.groupby(by='Neighborhood')['Venue'].count().mean()\n",
    "mean_venus_category=Toronto_venues.groupby(by='Neighborhood')['Venue Category'].nunique().mean()"
   ]
  },
  {
   "cell_type": "code",
   "execution_count": 22,
   "metadata": {},
   "outputs": [
    {
     "name": "stdout",
     "output_type": "stream",
     "text": [
      "On average, each neighborhood has 41.0 venuse\n"
     ]
    }
   ],
   "source": [
    "print('On average, each neighborhood has {} venuse'.format(np.round(mean_venus,0)))"
   ]
  },
  {
   "cell_type": "markdown",
   "metadata": {},
   "source": [
    "### Top 10 Neighborhood with most venues"
   ]
  },
  {
   "cell_type": "code",
   "execution_count": 33,
   "metadata": {},
   "outputs": [],
   "source": [
    "Toronto_top10=Toronto_venues.groupby(by='Neighborhood')['Venue'].count().sort_values(ascending=False).head(10)"
   ]
  },
  {
   "cell_type": "code",
   "execution_count": 38,
   "metadata": {},
   "outputs": [
    {
     "data": {
      "image/png": "[encoded data removed]",
      "text/plain": [
       "<Figure size 432x288 with 1 Axes>"
      ]
     },
     "metadata": {},
     "output_type": "display_data"
    }
   ],
   "source": [
    "plt.style.use('ggplot')\n",
    "plt.barh(Toronto_top10.index,Toronto_top10.values)\n",
    "plt.title(\"Top 10 Neighborhood with most venues\")\n",
    "plt.show()"
   ]
  },
  {
   "cell_type": "markdown",
   "metadata": {},
   "source": [
    "### Here is Mary's scorecard:\n",
    "|Venue Category|Scores|\n",
    "|-|-|\n",
    "|Shopping Mall|15|\n",
    "|Park|13|\n",
    "|Coffee|10|\n",
    "|Yoga|7|\n",
    "|Gym|7|\n",
    "|Italian Restaurant|5|\n",
    "|American Restaurant|5|\n",
    "|Japanese Restaurant|5|\n",
    "|Movie|5|\n",
    "|Theater|5|\n",
    "|Museum|5|\n"
   ]
  },
  {
   "cell_type": "markdown",
   "metadata": {},
   "source": [
    "### Now combine the data and scorecard together to rank the neighborhood to help Mary make decision."
   ]
  },
  {
   "cell_type": "code",
   "execution_count": 42,
   "metadata": {},
   "outputs": [
    {
     "data": {
      "text/html": [
       "<div>\n",
       "<style scoped>\n",
       "    .dataframe tbody tr th:only-of-type {\n",
       "        vertical-align: middle;\n",
       "    }\n",
       "\n",
       "    .dataframe tbody tr th {\n",
       "        vertical-align: top;\n",
       "    }\n",
       "\n",
       "    .dataframe thead th {\n",
       "        text-align: right;\n",
       "    }\n",
       "</style>\n",
       "<table border=\"1\" class=\"dataframe\">\n",
       "  <thead>\n",
       "    <tr style=\"text-align: right;\">\n",
       "      <th></th>\n",
       "      <th>Neighborhood</th>\n",
       "      <th>Neighborhood Latitude</th>\n",
       "      <th>Neighborhood Longitude</th>\n",
       "      <th>Venue</th>\n",
       "      <th>Venue Latitude</th>\n",
       "      <th>Venue Longitude</th>\n",
       "      <th>Venue Category</th>\n",
       "    </tr>\n",
       "  </thead>\n",
       "  <tbody>\n",
       "    <tr>\n",
       "      <th>0</th>\n",
       "      <td>Regent Park, Harbourfront</td>\n",
       "      <td>43.65426</td>\n",
       "      <td>-79.360636</td>\n",
       "      <td>Roselle Desserts</td>\n",
       "      <td>43.653447</td>\n",
       "      <td>-79.362017</td>\n",
       "      <td>Bakery</td>\n",
       "    </tr>\n",
       "    <tr>\n",
       "      <th>1</th>\n",
       "      <td>Regent Park, Harbourfront</td>\n",
       "      <td>43.65426</td>\n",
       "      <td>-79.360636</td>\n",
       "      <td>Tandem Coffee</td>\n",
       "      <td>43.653559</td>\n",
       "      <td>-79.361809</td>\n",
       "      <td>Coffee Shop</td>\n",
       "    </tr>\n",
       "    <tr>\n",
       "      <th>2</th>\n",
       "      <td>Regent Park, Harbourfront</td>\n",
       "      <td>43.65426</td>\n",
       "      <td>-79.360636</td>\n",
       "      <td>Cooper Koo Family YMCA</td>\n",
       "      <td>43.653249</td>\n",
       "      <td>-79.358008</td>\n",
       "      <td>Distribution Center</td>\n",
       "    </tr>\n",
       "    <tr>\n",
       "      <th>3</th>\n",
       "      <td>Regent Park, Harbourfront</td>\n",
       "      <td>43.65426</td>\n",
       "      <td>-79.360636</td>\n",
       "      <td>Body Blitz Spa East</td>\n",
       "      <td>43.654735</td>\n",
       "      <td>-79.359874</td>\n",
       "      <td>Spa</td>\n",
       "    </tr>\n",
       "    <tr>\n",
       "      <th>4</th>\n",
       "      <td>Regent Park, Harbourfront</td>\n",
       "      <td>43.65426</td>\n",
       "      <td>-79.360636</td>\n",
       "      <td>Dominion Pub and Kitchen</td>\n",
       "      <td>43.656919</td>\n",
       "      <td>-79.358967</td>\n",
       "      <td>Pub</td>\n",
       "    </tr>\n",
       "  </tbody>\n",
       "</table>\n",
       "</div>"
      ],
      "text/plain": [
       "                Neighborhood  Neighborhood Latitude  Neighborhood Longitude  \\\n",
       "0  Regent Park, Harbourfront               43.65426              -79.360636   \n",
       "1  Regent Park, Harbourfront               43.65426              -79.360636   \n",
       "2  Regent Park, Harbourfront               43.65426              -79.360636   \n",
       "3  Regent Park, Harbourfront               43.65426              -79.360636   \n",
       "4  Regent Park, Harbourfront               43.65426              -79.360636   \n",
       "\n",
       "                      Venue  Venue Latitude  Venue Longitude  \\\n",
       "0          Roselle Desserts       43.653447       -79.362017   \n",
       "1             Tandem Coffee       43.653559       -79.361809   \n",
       "2    Cooper Koo Family YMCA       43.653249       -79.358008   \n",
       "3       Body Blitz Spa East       43.654735       -79.359874   \n",
       "4  Dominion Pub and Kitchen       43.656919       -79.358967   \n",
       "\n",
       "        Venue Category  \n",
       "0               Bakery  \n",
       "1          Coffee Shop  \n",
       "2  Distribution Center  \n",
       "3                  Spa  \n",
       "4                  Pub  "
      ]
     },
     "execution_count": 42,
     "metadata": {},
     "output_type": "execute_result"
    }
   ],
   "source": [
    "Toronto_venues=pd.read_csv('Toronto_venues.csv',index_col=0)\n",
    "Toronto_venues.head()"
   ]
  },
  {
   "cell_type": "markdown",
   "metadata": {},
   "source": [
    "### Let's do the scorecard:"
   ]
  },
  {
   "cell_type": "code",
   "execution_count": 84,
   "metadata": {},
   "outputs": [],
   "source": [
    "Score1_list=[]\n",
    "Score2_list=[]\n",
    "Score3_list=[]\n",
    "Score4_list=[]\n",
    "Score5_list=[]\n",
    "Score6_list=[]\n",
    "Score7_list=[]\n",
    "Score8_list=[]\n",
    "Score9_list=[]\n",
    "Score10_list=[]\n",
    "Score11_list=[]\n",
    "for Neighborhood in Toronto_venues['Neighborhood'].unique().tolist():\n",
    "    sub=Toronto_venues.loc[Toronto_venues['Neighborhood']==Neighborhood,'Venue Category']\n",
    "    if (sub.str.find('Shopping Mall')>=0).sum()>0:\n",
    "        Score1=15\n",
    "    else:\n",
    "        Score1=0\n",
    "    Score1_list.append(Score1)\n",
    "    if (sub.str.find('Park')>=0).sum()>0:\n",
    "        Score2=13\n",
    "    else:\n",
    "        Score2=0\n",
    "    Score2_list.append(Score2)\n",
    "    if (sub.str.find('Coffee')>=0).sum()>0:\n",
    "        Score3=10\n",
    "    else:\n",
    "        Score3=0\n",
    "    Score3_list.append(Score3)\n",
    "    if (sub.str.find('Yoga')>=0).sum()>0:\n",
    "        Score4=7\n",
    "    else:\n",
    "        Score4=0\n",
    "    Score4_list.append(Score4)\n",
    "    if (sub.str.find('Gym')>=0).sum()>0:\n",
    "        Score5=7\n",
    "    else:\n",
    "        Score5=0\n",
    "    Score5_list.append(Score5)\n",
    "    if (sub.str.find('Italian Restaurant')>=0).sum()>0:\n",
    "        Score6=5\n",
    "    else:\n",
    "        Score6=0\n",
    "    Score6_list.append(Score6)\n",
    "    if (sub.str.find('American Restaurant')>=0).sum()>0:\n",
    "        Score7=5\n",
    "    else:\n",
    "        Score7=0\n",
    "    Score7_list.append(Score7)\n",
    "    if (sub.str.find('Japanese Restaurant')>=0).sum()>0:\n",
    "        Score8=5\n",
    "    else:\n",
    "        Score8=0\n",
    "    Score8_list.append(Score8)\n",
    "    if (sub.str.find('Movie')>=0).sum()>0:\n",
    "        Score9=5\n",
    "    else:\n",
    "        Score9=0\n",
    "    Score9_list.append(Score9)\n",
    "    if (sub.str.find('Theater')>=0).sum()>0:\n",
    "        Score10=5\n",
    "    else:\n",
    "        Score10=0\n",
    "    Score10_list.append(Score10)\n",
    "    if (sub.str.find('Museum')>=0).sum()>0:\n",
    "        Score11=5\n",
    "    else:\n",
    "        Score11=0\n",
    "    Score11_list.append(Score11)"
   ]
  },
  {
   "cell_type": "code",
   "execution_count": 89,
   "metadata": {},
   "outputs": [],
   "source": [
    "Toronto_scores=pd.DataFrame({'Neighborhood':Toronto_venues['Neighborhood'].unique().tolist(),\n",
    "                            'Score1':Score1_list,'Score2':Score2_list,'Score3':Score3_list,'Score4':Score4_list,'Score5':Score5_list,\n",
    "                             'Score6':Score6_list,'Score7':Score7_list,'Score8':Score8_list,'Score9':Score9_list,\n",
    "                             'Score10':Score10_list,'Score11':Score11_list})"
   ]
  },
  {
   "cell_type": "code",
   "execution_count": 92,
   "metadata": {},
   "outputs": [],
   "source": [
    "Toronto_scores['Total Score']=Toronto_scores[['Score1','Score2','Score3','Score4',\n",
    "                                              'Score5','Score6','Score7','Score8','Score9','Score10','Score11']].sum(axis=1)"
   ]
  },
  {
   "cell_type": "code",
   "execution_count": 93,
   "metadata": {},
   "outputs": [],
   "source": [
    "Toronto_final=pd.merge(df_Toronto,Toronto_scores[['Neighborhood','Total Score']]\n",
    "                       ,left_on='Neighborhood',right_on='Neighborhood')"
   ]
  },
  {
   "cell_type": "markdown",
   "metadata": {},
   "source": [
    "### Now Cluster the Neighborhoods based on the total score"
   ]
  },
  {
   "cell_type": "code",
   "execution_count": 105,
   "metadata": {},
   "outputs": [
    {
     "data": {
      "image/png": "[encoded data removed]",
      "text/plain": [
       "<Figure size 432x288 with 1 Axes>"
      ]
     },
     "metadata": {},
     "output_type": "display_data"
    }
   ],
   "source": [
    "Z=linkage(Toronto_final[['Total Score']],method='complete')\n",
    "dendrogram(Z)\n",
    "plt.xticks(rotation=90)\n",
    "plt.show()"
   ]
  },
  {
   "cell_type": "markdown",
   "metadata": {},
   "source": [
    "### choose k=3 based on the chart!"
   ]
  },
  {
   "cell_type": "code",
   "execution_count": 106,
   "metadata": {},
   "outputs": [],
   "source": [
    "Toronto_final['labels']=fcluster(Z,3,criterion='maxclust')"
   ]
  },
  {
   "cell_type": "code",
   "execution_count": 109,
   "metadata": {},
   "outputs": [],
   "source": [
    "Toronto_final=Toronto_final.sort_values('Total Score',ascending=False)"
   ]
  },
  {
   "cell_type": "code",
   "execution_count": 116,
   "metadata": {},
   "outputs": [
    {
     "data": {
      "text/plain": [
       "labels\n",
       "1    16.777778\n",
       "2    72.333333\n",
       "3    43.944444\n",
       "Name: Total Score, dtype: float64"
      ]
     },
     "execution_count": 116,
     "metadata": {},
     "output_type": "execute_result"
    }
   ],
   "source": [
    "Toronto_final.groupby('labels')['Total Score'].mean()"
   ]
  },
  {
   "cell_type": "markdown",
   "metadata": {},
   "source": [
    "### Label 2 Clusters has the highest score while label one has the lowest\n",
    "***"
   ]
  },
  {
   "cell_type": "code",
   "execution_count": 111,
   "metadata": {},
   "outputs": [
    {
     "data": {
      "text/html": [
       "<div>\n",
       "<style scoped>\n",
       "    .dataframe tbody tr th:only-of-type {\n",
       "        vertical-align: middle;\n",
       "    }\n",
       "\n",
       "    .dataframe tbody tr th {\n",
       "        vertical-align: top;\n",
       "    }\n",
       "\n",
       "    .dataframe thead th {\n",
       "        text-align: right;\n",
       "    }\n",
       "</style>\n",
       "<table border=\"1\" class=\"dataframe\">\n",
       "  <thead>\n",
       "    <tr style=\"text-align: right;\">\n",
       "      <th></th>\n",
       "      <th>Postal Code</th>\n",
       "      <th>Borough</th>\n",
       "      <th>Neighborhood</th>\n",
       "      <th>Latitude</th>\n",
       "      <th>Longitude</th>\n",
       "      <th>Total Score</th>\n",
       "      <th>labels</th>\n",
       "    </tr>\n",
       "  </thead>\n",
       "  <tbody>\n",
       "    <tr>\n",
       "      <th>34</th>\n",
       "      <td>M5W</td>\n",
       "      <td>Downtown Toronto</td>\n",
       "      <td>Stn A PO Boxes</td>\n",
       "      <td>43.646435</td>\n",
       "      <td>-79.374846</td>\n",
       "      <td>82</td>\n",
       "      <td>2</td>\n",
       "    </tr>\n",
       "    <tr>\n",
       "      <th>2</th>\n",
       "      <td>M5B</td>\n",
       "      <td>Downtown Toronto</td>\n",
       "      <td>Garden District, Ryerson</td>\n",
       "      <td>43.657162</td>\n",
       "      <td>-79.378937</td>\n",
       "      <td>70</td>\n",
       "      <td>2</td>\n",
       "    </tr>\n",
       "    <tr>\n",
       "      <th>16</th>\n",
       "      <td>M5L</td>\n",
       "      <td>Downtown Toronto</td>\n",
       "      <td>Commerce Court, Victoria Hotel</td>\n",
       "      <td>43.648198</td>\n",
       "      <td>-79.379817</td>\n",
       "      <td>65</td>\n",
       "      <td>2</td>\n",
       "    </tr>\n",
       "  </tbody>\n",
       "</table>\n",
       "</div>"
      ],
      "text/plain": [
       "   Postal Code           Borough                    Neighborhood   Latitude  \\\n",
       "34         M5W  Downtown Toronto                  Stn A PO Boxes  43.646435   \n",
       "2          M5B  Downtown Toronto        Garden District, Ryerson  43.657162   \n",
       "16         M5L  Downtown Toronto  Commerce Court, Victoria Hotel  43.648198   \n",
       "\n",
       "    Longitude  Total Score  labels  \n",
       "34 -79.374846           82       2  \n",
       "2  -79.378937           70       2  \n",
       "16 -79.379817           65       2  "
      ]
     },
     "execution_count": 111,
     "metadata": {},
     "output_type": "execute_result"
    }
   ],
   "source": [
    "Toronto_final.loc[Toronto_final['labels']==2]"
   ]
  },
  {
   "cell_type": "markdown",
   "metadata": {},
   "source": [
    "# <font color='red'>*Stn A PO Boxes, Garden District, Ryerson, Commerce Court, Victoria Hotel*</font> are Mary's first choice\n",
    "***"
   ]
  },
  {
   "cell_type": "markdown",
   "metadata": {},
   "source": [
    "### Finally, let's visualize the neiborhood in the map"
   ]
  },
  {
   "cell_type": "code",
   "execution_count": 112,
   "metadata": {},
   "outputs": [],
   "source": [
    "address = 'Toronto'\n",
    "geolocator = Nominatim(user_agent=\"ny_explorer\")\n",
    "location = geolocator.geocode(address)\n",
    "latitude = location.latitude\n",
    "longitude = location.longitude"
   ]
  },
  {
   "cell_type": "code",
   "execution_count": 117,
   "metadata": {},
   "outputs": [
    {
     "data": {
      "text/html": [
       "<div style=\"width:100%;\"><div style=\"position:relative;width:100%;height:0;padding-bottom:60%;\"><iframe src=\"about:blank\" style=\"position:absolute;width:100%;height:100%;left:0;top:0;border:none !important;\" data-html=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 onload=\"this.contentDocument.open();this.contentDocument.write(atob(this.getAttribute('data-html')));this.contentDocument.close();\" allowfullscreen webkitallowfullscreen mozallowfullscreen></iframe></div></div>"
      ],
      "text/plain": [
       "<folium.folium.Map at 0x1cd98bdc518>"
      ]
     },
     "execution_count": 117,
     "metadata": {},
     "output_type": "execute_result"
    }
   ],
   "source": [
    "map_clusters = folium.Map(location=[latitude, longitude], zoom_start=12)\n",
    "\n",
    "rainbow = ['black','red','blue']\n",
    "markers_colors = []\n",
    "for lat, lon, poi, cluster in zip(Toronto_final['Latitude'], Toronto_final['Longitude'], Toronto_final['Neighborhood'], Toronto_final['labels']):\n",
    "    label = folium.Popup(str(poi) + ' Cluster ' + str(cluster), parse_html=True)\n",
    "    folium.CircleMarker(\n",
    "        [lat, lon],\n",
    "        radius=5,\n",
    "        popup=label,\n",
    "        color=rainbow[cluster-1],\n",
    "        fill=True,\n",
    "        fill_color=rainbow[cluster-1],\n",
    "        fill_opacity=0.7).add_to(map_clusters)\n",
    "       \n",
    "map_clusters"
   ]
  },
  {
   "cell_type": "code",
   "execution_count": null,
   "metadata": {},
   "outputs": [],
   "source": []
  }
 ],
 "metadata": {
  "kernelspec": {
   "display_name": "Python 3",
   "language": "python",
   "name": "python3"
  },
  "language_info": {
   "codemirror_mode": {
    "name": "ipython",
    "version": 3
   },
   "file_extension": ".py",
   "mimetype": "text/x-python",
   "name": "python",
   "nbconvert_exporter": "python",
   "pygments_lexer": "ipython3",
   "version": "3.7.3"
  }
 },
 "nbformat": 4,
 "nbformat_minor": 4
}
